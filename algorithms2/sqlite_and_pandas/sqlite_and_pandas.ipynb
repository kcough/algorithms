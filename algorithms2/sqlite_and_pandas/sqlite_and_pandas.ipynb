{
 "cells": [
  {
   "cell_type": "markdown",
   "metadata": {},
   "source": [
    "Monday, July 24th 2017\n",
    "\n",
    "SQLite and Pandas"
   ]
  },
  {
   "cell_type": "code",
   "execution_count": 1,
   "metadata": {},
   "outputs": [
    {
     "name": "stdout",
     "output_type": "stream",
     "text": [
      "CD_Transactions_07-23-2017.CSV  links.txt\r\n",
      "indiv_header_file.csv           sqlite_and_pandas.ipynb\r\n"
     ]
    }
   ],
   "source": [
    "ls\n"
   ]
  },
  {
   "cell_type": "code",
   "execution_count": 1,
   "metadata": {
    "collapsed": true
   },
   "outputs": [],
   "source": [
    "import pandas as pd\n"
   ]
  },
  {
   "cell_type": "code",
   "execution_count": 2,
   "metadata": {},
   "outputs": [
    {
     "name": "stdout",
     "output_type": "stream",
     "text": [
      "CPU times: user 3.24 s, sys: 313 ms, total: 3.55 s\n",
      "Wall time: 3.88 s\n"
     ]
    }
   ],
   "source": [
    "%%time\n",
    "df=pd.read_csv('CD_Transactions_07-23-2017.CSV')\n",
    "df.head()"
   ]
  },
  {
   "cell_type": "markdown",
   "metadata": {},
   "source": [
    "Go into terminal and run sqlite by typing 'sqlite3' into the terminal window. It says:\n",
    "SQLite version 3.16.0 2016-11-04 19:09:39\n",
    "Enter \".help\" for usage hints.\n",
    "Connected to a transient in-memory database.\n",
    "Use \".open FILENAME\" to reopen on a persistent database.\n",
    "sqlite> \n",
    "\n",
    "which means: what file do you want to use?\n",
    "\n",
    "SQLite databases are just files. \n",
    "\n",
    "To get out of sqlite:\n",
    "\n",
    "you use period aka meta commands, which start with a .\n",
    "\n",
    ".quit\n",
    "\n",
    ";     ends the line\n",
    "\n",
    "type \"sqlite3 alaska.db\" in the terminal window"
   ]
  },
  {
   "cell_type": "code",
   "execution_count": 3,
   "metadata": {
    "collapsed": true
   },
   "outputs": [],
   "source": [
    "import sqlite3"
   ]
  },
  {
   "cell_type": "code",
   "execution_count": 4,
   "metadata": {
    "collapsed": true
   },
   "outputs": [],
   "source": [
    "conn = sqlite3.connect('alaska.db')"
   ]
  },
  {
   "cell_type": "code",
   "execution_count": 5,
   "metadata": {},
   "outputs": [
    {
     "data": {
      "text/html": [
       "<div>\n",
       "<style>\n",
       "    .dataframe thead tr:only-child th {\n",
       "        text-align: right;\n",
       "    }\n",
       "\n",
       "    .dataframe thead th {\n",
       "        text-align: left;\n",
       "    }\n",
       "\n",
       "    .dataframe tbody tr th {\n",
       "        vertical-align: top;\n",
       "    }\n",
       "</style>\n",
       "<table border=\"1\" class=\"dataframe\">\n",
       "  <thead>\n",
       "    <tr style=\"text-align: right;\">\n",
       "      <th></th>\n",
       "      <th>Result</th>\n",
       "      <th>Date</th>\n",
       "      <th>Transaction Type</th>\n",
       "      <th>Payment Type</th>\n",
       "      <th>Payment Detail</th>\n",
       "      <th>Amount</th>\n",
       "      <th>Last/Business Name</th>\n",
       "      <th>First Name</th>\n",
       "      <th>Address</th>\n",
       "      <th>City</th>\n",
       "      <th>...</th>\n",
       "      <th>--------</th>\n",
       "      <th>Report Type</th>\n",
       "      <th>Election Name</th>\n",
       "      <th>Election Type</th>\n",
       "      <th>Municipality</th>\n",
       "      <th>Office</th>\n",
       "      <th>Filer Type</th>\n",
       "      <th>Name</th>\n",
       "      <th>Report Year</th>\n",
       "      <th>Submitted</th>\n",
       "    </tr>\n",
       "  </thead>\n",
       "  <tbody>\n",
       "    <tr>\n",
       "      <th>0</th>\n",
       "      <td>1</td>\n",
       "      <td>4/3/2017</td>\n",
       "      <td>Income</td>\n",
       "      <td>Check</td>\n",
       "      <td>12864</td>\n",
       "      <td>$350.00</td>\n",
       "      <td>Alaska Republican Party State Account</td>\n",
       "      <td></td>\n",
       "      <td></td>\n",
       "      <td></td>\n",
       "      <td>...</td>\n",
       "      <td></td>\n",
       "      <td>24 Hour Report</td>\n",
       "      <td>2017 - Anchorage Municipal Election</td>\n",
       "      <td>Anchorage Municipal</td>\n",
       "      <td>Anchorage, Municipality of</td>\n",
       "      <td>School Board</td>\n",
       "      <td>Candidate</td>\n",
       "      <td>Kay E Schuster</td>\n",
       "      <td>2017</td>\n",
       "      <td>4/3/2017</td>\n",
       "    </tr>\n",
       "    <tr>\n",
       "      <th>1</th>\n",
       "      <td>2</td>\n",
       "      <td>4/3/2017</td>\n",
       "      <td>Income</td>\n",
       "      <td>Credit Card</td>\n",
       "      <td></td>\n",
       "      <td>$500.00</td>\n",
       "      <td>Coffey</td>\n",
       "      <td>Dan</td>\n",
       "      <td></td>\n",
       "      <td></td>\n",
       "      <td>...</td>\n",
       "      <td></td>\n",
       "      <td>24 Hour Report</td>\n",
       "      <td>2017 - Anchorage Municipal Election</td>\n",
       "      <td>Anchorage Municipal</td>\n",
       "      <td>Anchorage, Municipality of</td>\n",
       "      <td>School Board</td>\n",
       "      <td>Candidate</td>\n",
       "      <td>Kay E Schuster</td>\n",
       "      <td>2017</td>\n",
       "      <td>4/3/2017</td>\n",
       "    </tr>\n",
       "    <tr>\n",
       "      <th>2</th>\n",
       "      <td>67</td>\n",
       "      <td>4/4/2017</td>\n",
       "      <td>Income</td>\n",
       "      <td>Check</td>\n",
       "      <td>3261</td>\n",
       "      <td>$500.00</td>\n",
       "      <td>Penny</td>\n",
       "      <td>Henry</td>\n",
       "      <td></td>\n",
       "      <td></td>\n",
       "      <td>...</td>\n",
       "      <td></td>\n",
       "      <td>24 Hour Report</td>\n",
       "      <td>2017 - Anchorage Municipal Election</td>\n",
       "      <td>Anchorage Municipal</td>\n",
       "      <td>Anchorage, Municipality of</td>\n",
       "      <td>School Board</td>\n",
       "      <td>Candidate</td>\n",
       "      <td>Kay E Schuster</td>\n",
       "      <td>2017</td>\n",
       "      <td>4/4/2017</td>\n",
       "    </tr>\n",
       "    <tr>\n",
       "      <th>3</th>\n",
       "      <td>545</td>\n",
       "      <td>3/31/2017</td>\n",
       "      <td>Income</td>\n",
       "      <td>Credit Card</td>\n",
       "      <td></td>\n",
       "      <td>$200.00</td>\n",
       "      <td>Galvin</td>\n",
       "      <td>Alyse</td>\n",
       "      <td>3117 Cottonwood St</td>\n",
       "      <td>Anchorage</td>\n",
       "      <td>...</td>\n",
       "      <td></td>\n",
       "      <td>105 Day Report</td>\n",
       "      <td>2017 - Anchorage Municipal Election</td>\n",
       "      <td>Anchorage Municipal</td>\n",
       "      <td>Anchorage, Municipality of</td>\n",
       "      <td>School Board</td>\n",
       "      <td>Candidate</td>\n",
       "      <td>Tasha Hotch</td>\n",
       "      <td>2017</td>\n",
       "      <td>5/9/2017</td>\n",
       "    </tr>\n",
       "    <tr>\n",
       "      <th>4</th>\n",
       "      <td>546</td>\n",
       "      <td>4/2/2017</td>\n",
       "      <td>Income</td>\n",
       "      <td>Credit Card</td>\n",
       "      <td></td>\n",
       "      <td>$25.00</td>\n",
       "      <td>Wehmhoff</td>\n",
       "      <td>Gretchen</td>\n",
       "      <td>PO Box 672395</td>\n",
       "      <td>Chugiak</td>\n",
       "      <td>...</td>\n",
       "      <td></td>\n",
       "      <td>105 Day Report</td>\n",
       "      <td>2017 - Anchorage Municipal Election</td>\n",
       "      <td>Anchorage Municipal</td>\n",
       "      <td>Anchorage, Municipality of</td>\n",
       "      <td>School Board</td>\n",
       "      <td>Candidate</td>\n",
       "      <td>Tasha Hotch</td>\n",
       "      <td>2017</td>\n",
       "      <td>5/9/2017</td>\n",
       "    </tr>\n",
       "  </tbody>\n",
       "</table>\n",
       "<p>5 rows × 26 columns</p>\n",
       "</div>"
      ],
      "text/plain": [
       "  Result       Date Transaction Type Payment Type Payment Detail   Amount  \\\n",
       "0      1   4/3/2017           Income        Check          12864  $350.00   \n",
       "1      2   4/3/2017           Income  Credit Card                 $500.00   \n",
       "2     67   4/4/2017           Income        Check           3261  $500.00   \n",
       "3    545  3/31/2017           Income  Credit Card                 $200.00   \n",
       "4    546   4/2/2017           Income  Credit Card                  $25.00   \n",
       "\n",
       "                      Last/Business Name First Name             Address  \\\n",
       "0  Alaska Republican Party State Account                                  \n",
       "1                                 Coffey        Dan                       \n",
       "2                                  Penny      Henry                       \n",
       "3                                 Galvin      Alyse  3117 Cottonwood St   \n",
       "4                               Wehmhoff   Gretchen       PO Box 672395   \n",
       "\n",
       "        City    ...    --------     Report Type  \\\n",
       "0               ...              24 Hour Report   \n",
       "1               ...              24 Hour Report   \n",
       "2               ...              24 Hour Report   \n",
       "3  Anchorage    ...              105 Day Report   \n",
       "4    Chugiak    ...              105 Day Report   \n",
       "\n",
       "                         Election Name        Election Type  \\\n",
       "0  2017 - Anchorage Municipal Election  Anchorage Municipal   \n",
       "1  2017 - Anchorage Municipal Election  Anchorage Municipal   \n",
       "2  2017 - Anchorage Municipal Election  Anchorage Municipal   \n",
       "3  2017 - Anchorage Municipal Election  Anchorage Municipal   \n",
       "4  2017 - Anchorage Municipal Election  Anchorage Municipal   \n",
       "\n",
       "                 Municipality        Office Filer Type            Name  \\\n",
       "0  Anchorage, Municipality of  School Board  Candidate  Kay E Schuster   \n",
       "1  Anchorage, Municipality of  School Board  Candidate  Kay E Schuster   \n",
       "2  Anchorage, Municipality of  School Board  Candidate  Kay E Schuster   \n",
       "3  Anchorage, Municipality of  School Board  Candidate     Tasha Hotch   \n",
       "4  Anchorage, Municipality of  School Board  Candidate     Tasha Hotch   \n",
       "\n",
       "  Report Year Submitted  \n",
       "0        2017  4/3/2017  \n",
       "1        2017  4/3/2017  \n",
       "2        2017  4/4/2017  \n",
       "3        2017  5/9/2017  \n",
       "4        2017  5/9/2017  \n",
       "\n",
       "[5 rows x 26 columns]"
      ]
     },
     "execution_count": 5,
     "metadata": {},
     "output_type": "execute_result"
    }
   ],
   "source": [
    "df = pd.read_sql('SELECT * FROM contribs WHERE Office = \"School Board\"', conn)\n",
    "df.head()"
   ]
  },
  {
   "cell_type": "code",
   "execution_count": null,
   "metadata": {
    "collapsed": true
   },
   "outputs": [],
   "source": []
  }
 ],
 "metadata": {
  "kernelspec": {
   "display_name": "Python 3",
   "language": "python",
   "name": "python3"
  },
  "language_info": {
   "codemirror_mode": {
    "name": "ipython",
    "version": 3
   },
   "file_extension": ".py",
   "mimetype": "text/x-python",
   "name": "python",
   "nbconvert_exporter": "python",
   "pygments_lexer": "ipython3",
   "version": "3.6.1"
  }
 },
 "nbformat": 4,
 "nbformat_minor": 2
}
