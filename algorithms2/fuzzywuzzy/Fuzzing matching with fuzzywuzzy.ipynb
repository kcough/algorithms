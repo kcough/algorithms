{
 "cells": [
  {
   "cell_type": "markdown",
   "metadata": {},
   "source": [
    "Sometimes you don't want to use OpenRefine. Why not? I don't know, it's the *best* for cleaning up fuzzy matches. But yes, sure, sometimes maybe you don't."
   ]
  },
  {
   "cell_type": "code",
   "execution_count": null,
   "metadata": {
    "collapsed": true
   },
   "outputs": [],
   "source": [
    "%matplotlib inline\n",
    "import pandas as pd"
   ]
  },
  {
   "cell_type": "code",
   "execution_count": null,
   "metadata": {
    "collapsed": true
   },
   "outputs": [],
   "source": [
    "df = pd.read_csv(\"CD_Transactions_07-23-2017.CSV\", index_col=False)"
   ]
  },
  {
   "cell_type": "code",
   "execution_count": null,
   "metadata": {},
   "outputs": [],
   "source": [
    "df.head()"
   ]
  },
  {
   "cell_type": "markdown",
   "metadata": {},
   "source": [
    "# What are all of our options for the \"Alaska Sea Pilot PAC fund\"?"
   ]
  },
  {
   "cell_type": "code",
   "execution_count": null,
   "metadata": {},
   "outputs": [],
   "source": [
    "df[df['Last/Business Name'] == 'Alaska Sea Pilot PAC fund'].shape"
   ]
  },
  {
   "cell_type": "code",
   "execution_count": null,
   "metadata": {},
   "outputs": [],
   "source": [
    "df[df['Last/Business Name'] == 'ALASKA SEA PILOT PAC FUND'].shape"
   ]
  },
  {
   "cell_type": "code",
   "execution_count": null,
   "metadata": {},
   "outputs": [],
   "source": [
    "df[df['Last/Business Name'] == 'Alaska Sea Pilot Pac Fund'].shape"
   ]
  },
  {
   "cell_type": "markdown",
   "metadata": {},
   "source": [
    "Maybe we can throw in a regex and catch some more?"
   ]
  },
  {
   "cell_type": "code",
   "execution_count": null,
   "metadata": {},
   "outputs": [],
   "source": [
    "df[df['Last/Business Name'].str.contains(\"Sea.*Pilot\", na=False)]['Last/Business Name'].value_counts()"
   ]
  },
  {
   "cell_type": "markdown",
   "metadata": {},
   "source": [
    "# Using fuzzywuzzy for finding fuzzy matches\n",
    "\n",
    "Fuzzy matches are incomplete or inexact matches. The Python package [fuzzywuzzy](https://github.com/seatgeek/fuzzywuzzy) has a few functions that can help you, although they're a little bit confusing! I'm going to take the examples from GitHub and annotate them a little, then we'll use them.\n",
    "\n",
    "First, install fuzzywuzzy with\n",
    "\n",
    "```bash\n",
    "pip3 install fuzzywuzzy[speedup]\n",
    "```\n",
    "\n",
    "Then we'll get to importing it"
   ]
  },
  {
   "cell_type": "code",
   "execution_count": null,
   "metadata": {
    "collapsed": true
   },
   "outputs": [],
   "source": [
    "# fuzz is used to compare TWO strings\n",
    "from fuzzywuzzy import fuzz\n",
    "\n",
    "# process is used to compare a string to MULTIPLE other strings\n",
    "from fuzzywuzzy import process"
   ]
  },
  {
   "cell_type": "markdown",
   "metadata": {},
   "source": [
    "> **MAKE SURE YOU INSTALLED USING `pip3 install fuzzywuzzy[speedup]` OR ELSE IT WILL COMPLAIN HERE AND WILL ALSO BE SLOWER**"
   ]
  },
  {
   "cell_type": "markdown",
   "metadata": {},
   "source": [
    "### `fuzz.ratio` compares the entire string, in order\n",
    "\n",
    "Every single thing in the string is important here!"
   ]
  },
  {
   "cell_type": "code",
   "execution_count": null,
   "metadata": {},
   "outputs": [],
   "source": [
    "fuzz.ratio(\"this is a test\", \"this is a test!\")"
   ]
  },
  {
   "cell_type": "markdown",
   "metadata": {},
   "source": [
    "### `fuzz.partial_ratio` compares subsections of the string\n",
    "\n",
    "Partial matches are fine! The exclamation mark at the end made `fuzz.ratio` not like the comparison last time, but this time it's OK."
   ]
  },
  {
   "cell_type": "code",
   "execution_count": null,
   "metadata": {},
   "outputs": [],
   "source": [
    "fuzz.partial_ratio(\"this is a test\", \"this is a test!\")"
   ]
  },
  {
   "cell_type": "markdown",
   "metadata": {},
   "source": [
    "### `fuzz.token_sort_ratio` ignores word order\n",
    "\n",
    "`fuzz.token_sort_ratio` orders all of the words first, so \"KENNEDY JOHN\" and \"JOHN KENNEDY\" would be the same."
   ]
  },
  {
   "cell_type": "code",
   "execution_count": null,
   "metadata": {},
   "outputs": [],
   "source": [
    "fuzz.token_sort_ratio(\"fuzzy wuzzy was a bear\", \"wuzzy fuzzy was a bear\")"
   ]
  },
  {
   "cell_type": "code",
   "execution_count": null,
   "metadata": {},
   "outputs": [],
   "source": [
    "fuzz.token_sort_ratio(\"fuzzy was a bear\", \"fuzzy fuzzy was a bear\")"
   ]
  },
  {
   "cell_type": "markdown",
   "metadata": {},
   "source": [
    "### `fuzz.token_set_ratio` ignores duplicate words\n",
    "\n",
    "I don't know why you'd ever have \"JOHN KENNEDY KENNEDY\" but if you use `fuzz.token_set_ratio` then it would definitely match \"JOHN KENNEDY\"."
   ]
  },
  {
   "cell_type": "code",
   "execution_count": null,
   "metadata": {},
   "outputs": [],
   "source": [
    "fuzz.token_set_ratio(\"fuzzy was a bear\", \"fuzzy fuzzy was a bear\")"
   ]
  },
  {
   "cell_type": "markdown",
   "metadata": {},
   "source": [
    "# Actually using fuzzywuzzy on our dataset, featuring `process.extract`"
   ]
  },
  {
   "cell_type": "markdown",
   "metadata": {},
   "source": [
    "Since we already imported, let's collect all of the business names into a list. We're going to search through the list to find names that are similar to **Alaska Sea Pilot PAC Fun**."
   ]
  },
  {
   "cell_type": "code",
   "execution_count": null,
   "metadata": {},
   "outputs": [],
   "source": [
    "# If we grab a column and use .unique(), it gives us every business name with no repeats\n",
    "choices = df['Last/Business Name'].unique()\n",
    "choices[:15]"
   ]
  },
  {
   "cell_type": "markdown",
   "metadata": {},
   "source": [
    "Now we'll use `process.extract` to find the top 15 matches"
   ]
  },
  {
   "cell_type": "code",
   "execution_count": null,
   "metadata": {},
   "outputs": [],
   "source": [
    "%%time\n",
    "process.extract(\"Alaska Sea Pilot PAC Fund\", choices, limit=10, scorer=fuzz.token_sort_ratio)"
   ]
  },
  {
   "cell_type": "markdown",
   "metadata": {},
   "source": [
    "Wow, those look pretty nice! Maybe instead we should just find the ones that are above a certain score? You can also specify a `scorer` if you want to get particular."
   ]
  },
  {
   "cell_type": "code",
   "execution_count": null,
   "metadata": {
    "collapsed": true
   },
   "outputs": [],
   "source": [
    "# Get 100 options so we're sure to have some non-matches\n",
    "possibilities = process.extract(\"Alaska Sea Pilot PAC Fund\", choices, limit=100, scorer=fuzz.token_sort_ratio)"
   ]
  },
  {
   "cell_type": "code",
   "execution_count": null,
   "metadata": {},
   "outputs": [],
   "source": [
    "# And let's see everyting with a score above 70\n",
    "[possible for possible in possibilities if possible[1] > 70]"
   ]
  },
  {
   "cell_type": "markdown",
   "metadata": {},
   "source": [
    "**Huh, pretty neat.**\n",
    "\n",
    "## Filtering directly with fuzzywuzzy\n",
    "\n",
    "We can also use this directly with our dataframe, if we'd like to use `fuzzywuzzy` to filter instead of giving us a list. It's going to be a lot slower, but that's life, I guess."
   ]
  },
  {
   "cell_type": "code",
   "execution_count": null,
   "metadata": {},
   "outputs": [],
   "source": [
    "def get_ratio(row):\n",
    "    name = row['Last/Business Name']\n",
    "    return fuzz.token_sort_ratio(name, \"Alaska Sea Pilot PAC Fund\")\n",
    "\n",
    "df[df.apply(get_ratio, axis=1) > 70]"
   ]
  },
  {
   "cell_type": "markdown",
   "metadata": {},
   "source": [
    "You could also do it using a lambda if you wanted"
   ]
  },
  {
   "cell_type": "code",
   "execution_count": null,
   "metadata": {},
   "outputs": [],
   "source": [
    "df[df.apply(lambda row: fuzz.token_sort_ratio(row['Last/Business Name'], \"Alaska Sea Pilot PAC Fund\"), axis=1) > 70]"
   ]
  },
  {
   "cell_type": "markdown",
   "metadata": {},
   "source": [
    "## We could technically clean it like below, but... it seems risky. Because it *is* risky!\n",
    "\n",
    "```python\n",
    "df.loc[df.apply(get_ratio, axis=1) > 75, \"Last/Business Name\"] = \"Alaska Sea Pilot PAC Fund\"\n",
    "```"
   ]
  },
  {
   "cell_type": "code",
   "execution_count": null,
   "metadata": {
    "collapsed": true
   },
   "outputs": [],
   "source": []
  }
 ],
 "metadata": {
  "kernelspec": {
   "display_name": "Python 3",
   "language": "python",
   "name": "python3"
  },
  "language_info": {
   "codemirror_mode": {
    "name": "ipython",
    "version": 3
   },
   "file_extension": ".py",
   "mimetype": "text/x-python",
   "name": "python",
   "nbconvert_exporter": "python",
   "pygments_lexer": "ipython3",
   "version": "3.6.1"
  }
 },
 "nbformat": 4,
 "nbformat_minor": 2
}
