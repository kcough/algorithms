{
 "cells": [
  {
   "cell_type": "code",
   "execution_count": 93,
   "metadata": {},
   "outputs": [
    {
     "name": "stdout",
     "output_type": "stream",
     "text": [
      "[{'headline': 'On Rikers Island, a Move Toward Reform Causes Trouble', 'byline': 'by Joaquin Sapien ProPublica,  Today, 11:55 a.m.', 'link': 'https://www.propublica.org/article/on-rikers-island-a-move-toward-reform-causes-trouble/'}, {'headline': 'Amid the Blaring Headlines, Routine Reports of Hate-Fueled Violence', 'byline': 'by Joe Sexton ProPublica,  Yesterday, 3 p.m.', 'link': 'https://www.propublica.org/article/amid-the-blaring-headlines-routine-reports-of-hate-fueled-violence/'}, {'headline': 'Keep an Eye On Your State’s Congressional Delegation', 'byline': 'by Allison McCartney and Jeremy B. Merrill ProPublica,  Yesterday, 8 a.m.', 'link': 'https://www.propublica.org/nerds/item/keep-an-eye-on-your-states-congressional-delegation/'}, {'headline': 'How (and Why) We’re Collecting Cook County Jail Data', 'byline': 'by David Eads ProPublica,  July 24, 12:39 p.m.', 'link': 'https://www.propublica.org/nerds/item/how-and-why-collecting-cook-county-jail-data/', 'summary': 'ProPublica Illinois is restarting a collaborative data collection project to better understand what happens to inmates at Cook County Jail.'}, {'headline': 'Has the Moment for Environmental Justice Been Lost?', 'byline': 'by Talia Buford ProPublica,  July 24, 8 a.m.', 'link': 'https://www.propublica.org/article/has-the-moment-for-environmental-justice-been-lost/', 'summary': 'Facing Trump’s proposals for cutting programs that help minorities and the poor, Democrats scramble to make up for missed opportunities to protect them.'}, {'headline': 'ProPublica Illinois Is Hiring a Communications Manager', 'link': 'https://www.propublica.org/atpropublica/item/propublica-illinois-is-hiring-a-communications-manager/'}, {'headline': 'Kaboom Town', 'byline': 'by Abrahm Lustgarten ProPublica,  July 21, 8 a.m.', 'link': 'https://www.propublica.org/article/military-pollution-toxic-burns-colfax-louisiana', 'summary': 'The U.S. military burns millions of pounds of munitions in a tiny, African-American corner of Louisiana. The town’s residents say they’re forgotten in the plume.'}, {'headline': 'In Colfax, Echoes of Another Conflict', 'byline': 'by Ashley Gilbertson ProPublica,  July 21, 7:59 a.m.', 'link': 'https://www.propublica.org/article/military-pollution-photos-colfax-louisiana-ashley-gibertson', 'summary': 'A photographer who covered the war in Iraq appreciates how threats can come to seem routine.'}, {'headline': 'One Year, One Facility, 1.7 Million Pounds of Hazardous Waste Burned in Open Air', 'byline': 'by Lylla Younes and Abrahm Lustgarten ProPublica,  July 21, 7:59 a.m.', 'link': 'https://projects.propublica.org/graphics/colfax', 'summary': 'Explore every shipment of hazardous waste sent to Colfax in 2015 and was burned or detonated into open air.'}, {'headline': 'Open Burns, Ill Winds', 'byline': 'by Abrahm Lustgarten ProPublica,  July 20, 8 a.m.', 'link': 'https://www.propublica.org/article/military-pollution-open-burns-radford-virginia', 'summary': 'The Pentagon’s handling of munitions and their waste has poisoned millions of acres, and left Americans to guess at the threat to their health.'}, {'headline': 'Toxic Fires', 'byline': 'by Hilary Fung, Lena Groeger and Abrahm Lustgarten ProPublica,  July 20, 7:59 a.m.', 'link': 'https://projects.propublica.org/graphics/burn-sites', 'summary': 'Across the Country, Military Sites Burn Hazardous Waste Into Open Air'}, {'headline': 'The Immigration Effect', 'byline': 'by Lena Groeger ProPublica,  July 19, 11 a.m.', 'link': 'https://projects.propublica.org/graphics/gdp', 'summary': 'There’s a way for President Trump to boost the economy by 4 percent, but he probably won’t like it.'}, {'headline': 'Authenticating Email Using DKIM and ARC, or How We Analyzed the Kasowitz Emails', 'byline': 'by Jeremy B. Merrill ProPublica,  July 19, 8 a.m.', 'link': 'https://www.propublica.org/nerds/item/authenticating-email-using-dkim-and-arc-how-we-analyzed-the-kasowitz-email/', 'summary': 'Last week we needed to authenticate some emails sent by the President’s lawyer, Marc Kasowitz. Here’s how we did it.'}, {'headline': 'Advocacy Groups Say Senators Should Have One Word for Trump Immigration Pick: ‘No.’', 'byline': 'by Marcelo Rochabrun ProPublica,  July 18, 3:36 p.m.', 'link': 'https://www.propublica.org/series/immigration/', 'summary': 'More than 300 immigration advocacy groups urge senators to oppose the nomination of Lee Francis Cissna to head the U.S. Citizenship and Immigration Services, citing ProPublica’s scrutiny of his record.'}, {'headline': 'Hotelier-in-Chief: Here Are the Trumps’ New Hotels', 'byline': 'by Derek Kravitz, ProPublica, Alan Huffman, special to ProPublica, and Matt Drange, Forbes, July 18, 8 a.m.', 'link': 'https://www.propublica.org/article/hotelier-in-chief-here-are-the-trumps-new-hotels/', 'summary': 'Two brothers from the Mississippi Delta, who are working with President Trump’s sons on four new hotels, met the president through Gov. Phil Bryant. One of the brothers has been a campaign donor to Bryant since 2011.'}, {'headline': 'We Found New Details About the New Trump-Branded Hotels. Now We Want Your Help to Find the Rest.', 'byline': 'by Derek Kravitz, Al Shaw and Terry Parris Jr., ProPublica, and Matt Drange, Forbes July 18, 7:59 a.m.', 'link': 'https://projects.propublica.org/graphics/trump-hotels', 'summary': 'We’re recruiting local reporters and civically engaged citizens. We have a few ideas on how you can find these deals, who to talk to about them, and what documents to look for.'}, {'headline': 'The Myth of Drug Expiration Dates', 'byline': 'by Marshall Allen ProPublica,  July 18, 5 a.m.', 'link': 'https://www.propublica.org/series/wasted-medicine/', 'summary': 'Hospitals and pharmacies are required to toss expired drugs, no matter how expensive or vital. Meanwhile the FDA has long known that many remain safe and potent for years longer.'}, {'headline': 'Cook County Assessor Faces Questions About Property Tax Inequity', 'byline': 'by Jason Grotto, ProPublica/Chicago Tribune,  July 17, 4:30 p.m.', 'link': 'https://www.propublica.org/article/joseph-berrios-cook-county-assessor-property-tax-inequity/', 'summary': 'After reporting showed that Cook County’s property tax assessments punish the poor and reward the rich, Assessor Joseph Berrios is called before a public board to explain.'}]\n"
     ]
    },
    {
     "data": {
      "text/plain": [
       "<Response [200]>"
      ]
     },
     "execution_count": 93,
     "metadata": {},
     "output_type": "execute_result"
    }
   ],
   "source": [
    "import requests\n",
    "from bs4 import BeautifulSoup\n",
    "import pandas as pd\n",
    "import time\n",
    "\n",
    "response = requests.get(\"https://www.propublica.org/\")\n",
    "doc = BeautifulSoup(response.text, 'html.parser')\n",
    "stories = doc.find_all(\"div\", { 'class': 'box-feature-text' })\n",
    "\n",
    "\n",
    "all_stories = []\n",
    "# Grab their headlines and bylines\n",
    "for story in stories:\n",
    "    # Grab all of the h2's inside of the story\n",
    "    headline = story.find('a', {'class': 'title-link'})\n",
    "    # If a headline exists, then process the rest!\n",
    "    if headline:\n",
    "        # They're COVERED in whitespace\n",
    "        headline_text = headline.text.strip()\n",
    "        #make a dictionary called 'this_story\" inside your list 'all_stories'\n",
    "        this_story = { 'headline': headline_text }\n",
    "        #add a byline entry\n",
    "        byline = story.find('p', {'class': 'byline'})\n",
    "        #and one for links\n",
    "        link = story.find('a', href=True)\n",
    "        # Not all of them have a byline\n",
    "        summary = story.find_all('p')\n",
    "        if byline:\n",
    "            byline_text = byline.text.strip()\n",
    "            this_story['byline'] = byline_text\n",
    "        #they should all have links but whatever\n",
    "        if link:\n",
    "            link_text = link.text.strip()\n",
    "            this_story['link'] = link[\"href\"]\n",
    "        if len(summary) > 1:\n",
    "            summary_text = summary[1].text\n",
    "            this_story['summary'] = summary_text\n",
    "            \n",
    "        all_stories.append(this_story)\n",
    "\n",
    "#flatten the dictionary into a string\n",
    "text = \"\"\n",
    "\n",
    "for story in all_stories: \n",
    "    text = text + story['headline'] + \"\\n\"\n",
    "    if 'byline' in story:\n",
    "        text = text + story['byline'] + \"\\n\"\n",
    "    if 'summary' in story:\n",
    "        text = text + story['summary'] + \"\\n\"\n",
    "    text = text + story['link'] + \"\\n\"\n",
    "    text = text + \"\\n\\n\"\n",
    "text\n",
    "\n",
    "# print(all_stories)\n",
    "\n",
    "# stories_df = pd.DataFrame(all_stories)\n",
    "# stories_df.head()\n",
    "# stories_df.to_csv(\"propublica-data.csv\")\n",
    "\n",
    "# datestring = time.strftime(\"%Y-%m-%d-%H-%M\")\n",
    "\n",
    "# filename = \"propublica-data-\" + datestring + \".csv\"\n",
    "# stories_df.to_csv(filename, index=False)\n",
    "\n",
    "requests.post(\n",
    "        \"https://api.mailgun.net/v3/sandboxfde15846fe8f42e1ba424520b85f9de4.mailgun.org/messages\",\n",
    "        auth=(\"api\", \"key-b461543f82207a0b6573356521d9164d\"),\n",
    "        data={\"from\": \"Mailgun Sandbox <postmaster@sandboxfde15846fe8f42e1ba424520b85f9de4.mailgun.org>\",\n",
    "              \"to\": \"Kate Cough <kaitlin.cough@gmail.com>\",\n",
    "              \"subject\": \"Propublica Headlines\",\n",
    "              \"text\": text})"
   ]
  },
  {
   "cell_type": "code",
   "execution_count": 96,
   "metadata": {},
   "outputs": [
    {
     "name": "stdout",
     "output_type": "stream",
     "text": [
      "<p>After reporting showed that Cook County’s property tax assessments punish the poor and reward the rich, Assessor Joseph Berrios is called before a public board to explain.</p>\n"
     ]
    }
   ],
   "source": [
    "for story in stories:\n",
    "    summary = story.find_all('p')\n",
    "print(summary[1])"
   ]
  },
  {
   "cell_type": "code",
   "execution_count": null,
   "metadata": {
    "collapsed": true
   },
   "outputs": [],
   "source": [
    " <div class=\"box-feature-text\">\n",
    "\n",
    " <p>The U.S. military burns millions of pounds of munitions in a tiny, African-American corner of Louisiana. The town’s residents say they’re forgotten in the plume.</p>"
   ]
  },
  {
   "cell_type": "code",
   "execution_count": 97,
   "metadata": {},
   "outputs": [
    {
     "data": {
      "text/plain": [
       "[{'byline': 'by Joe Sexton ProPublica,  Yesterday, 3 p.m.',\n",
       "  'headline': 'Amid the Blaring Headlines, Routine Reports of Hate-Fueled Violence',\n",
       "  'link': 'https://www.propublica.org/article/amid-the-blaring-headlines-routine-reports-of-hate-fueled-violence/'},\n",
       " {'byline': 'by Allison McCartney and Jeremy B. Merrill ProPublica,  Yesterday, 8 a.m.',\n",
       "  'headline': 'Keep an Eye On Your State’s Congressional Delegation',\n",
       "  'link': 'https://www.propublica.org/nerds/item/keep-an-eye-on-your-states-congressional-delegation/'},\n",
       " {'byline': 'by David Eads ProPublica,  July 24, 12:39 p.m.',\n",
       "  'headline': 'How (and Why) We’re Collecting Cook County Jail Data',\n",
       "  'link': 'https://www.propublica.org/nerds/item/how-and-why-collecting-cook-county-jail-data/',\n",
       "  'summary': 'ProPublica Illinois is restarting a collaborative data collection project to better understand what happens to inmates at Cook County Jail.'},\n",
       " {'byline': 'by Talia Buford ProPublica,  July 24, 8 a.m.',\n",
       "  'headline': 'Has the Moment for Environmental Justice Been Lost?',\n",
       "  'link': 'https://www.propublica.org/article/has-the-moment-for-environmental-justice-been-lost/',\n",
       "  'summary': 'Facing Trump’s proposals for cutting programs that help minorities and the poor, Democrats scramble to make up for missed opportunities to protect them.'},\n",
       " {'headline': 'ProPublica Illinois Is Hiring a Communications Manager',\n",
       "  'link': 'https://www.propublica.org/atpropublica/item/propublica-illinois-is-hiring-a-communications-manager/'},\n",
       " {'byline': 'by Abrahm Lustgarten ProPublica,  July 21, 8 a.m.',\n",
       "  'headline': 'Kaboom Town',\n",
       "  'link': 'https://www.propublica.org/article/military-pollution-toxic-burns-colfax-louisiana',\n",
       "  'summary': 'The U.S. military burns millions of pounds of munitions in a tiny, African-American corner of Louisiana. The town’s residents say they’re forgotten in the plume.'},\n",
       " {'byline': 'by Ashley Gilbertson ProPublica,  July 21, 7:59 a.m.',\n",
       "  'headline': 'In Colfax, Echoes of Another Conflict',\n",
       "  'link': 'https://www.propublica.org/article/military-pollution-photos-colfax-louisiana-ashley-gibertson',\n",
       "  'summary': 'A photographer who covered the war in Iraq appreciates how threats can come to seem routine.'},\n",
       " {'byline': 'by Lylla Younes and Abrahm Lustgarten ProPublica,  July 21, 7:59 a.m.',\n",
       "  'headline': 'One Year, One Facility, 1.7 Million Pounds of Hazardous Waste Burned in Open Air',\n",
       "  'link': 'https://projects.propublica.org/graphics/colfax',\n",
       "  'summary': 'Explore every shipment of hazardous waste sent to Colfax in 2015 and was burned or detonated into open air.'},\n",
       " {'byline': 'by Abrahm Lustgarten ProPublica,  July 20, 8 a.m.',\n",
       "  'headline': 'Open Burns, Ill Winds',\n",
       "  'link': 'https://www.propublica.org/article/military-pollution-open-burns-radford-virginia',\n",
       "  'summary': 'The Pentagon’s handling of munitions and their waste has poisoned millions of acres, and left Americans to guess at the threat to their health.'}]"
      ]
     },
     "execution_count": 97,
     "metadata": {},
     "output_type": "execute_result"
    }
   ],
   "source": [
    "all_stories[1:10]"
   ]
  },
  {
   "cell_type": "code",
   "execution_count": 95,
   "metadata": {},
   "outputs": [
    {
     "name": "stdout",
     "output_type": "stream",
     "text": [
      "/nDocumenting Hate/nWasted Medicine/nThe Rent Racket/nNuisance Abatement/nImmigration/nMachine Bias/nReliving Agent Orange/nHell and High Water/nBusted/nThe Breakdown/nIt’s not too late to Vote ProPublica/nDocumenting Hate/nAmid the Blaring Headlines, Routine Reports of Hate-Fueled Violence/nWasted Medicine/nThe Myth of Drug Expiration Dates/nThe Rent Racket/nNuisance Abatement/nImmigration/nAdvocacy Groups Say Senators Should Have One Word for Trump Immigration Pick: ‘No.’/nMachine Bias/nReliving Agent Orange/nHell and High Water/nBusted/nHouston Police End Use of Drug Tests That Helped Produce Wrongful Convictions/nThe Breakdown\n"
     ]
    }
   ],
   "source": [
    "headlines = doc.find_all('h3')\n",
    "\n",
    "email_text = \"\"\n",
    "#looping through the headlines and adding one \n",
    "for headline in headlines:\n",
    "    email_text = email_text + \"/n\" + headline.text.strip()\n",
    "print(email_text)"
   ]
  },
  {
   "cell_type": "code",
   "execution_count": 4,
   "metadata": {},
   "outputs": [
    {
     "name": "stdout",
     "output_type": "stream",
     "text": [
      "[{'headline': 'Amid the Blaring Headlines, Routine Reports of Hate-Fueled Violence', 'byline': 'by Joe Sexton ProPublica,  3 minutes ago'}, {'headline': 'Keep an Eye On Your State’s Congressional Delegation', 'byline': 'by Allison McCartney and Jeremy B. Merrill ProPublica,  Today, 8 a.m.'}, {'headline': \"How (and Why) We're Collecting Cook County Jail Data\", 'byline': 'by David Eads ProPublica,  Yesterday, 12:39 p.m.'}, {'headline': 'Has the Moment for Environmental Justice Been Lost?', 'byline': 'by Talia Buford ProPublica,  Yesterday, 8 a.m.'}, {'headline': 'ProPublica Illinois Is Hiring a Communications Manager'}, {'headline': 'Kaboom Town', 'byline': 'by Abrahm Lustgarten ProPublica,  July 21, 8 a.m.'}, {'headline': 'In Colfax, Echoes of Another Conflict', 'byline': 'by Ashley Gilbertson ProPublica,  July 21, 7:59 a.m.'}, {'headline': 'One Year, One Facility, 1.7 Million Pounds of Hazardous Waste Burned in Open Air', 'byline': 'by Lylla Younes and Abrahm Lustgarten ProPublica,  July 21, 7:59 a.m.'}, {'headline': 'Open Burns, Ill Winds', 'byline': 'by Abrahm Lustgarten ProPublica,  July 20, 8 a.m.'}, {'headline': 'Toxic Fires', 'byline': 'by Hilary Fung, Lena Groeger and Abrahm Lustgarten ProPublica,  July 20, 7:59 a.m.'}, {'headline': 'The Immigration Effect', 'byline': 'by Lena Groeger ProPublica,  July 19, 11 a.m.'}, {'headline': 'Authenticating Email Using DKIM and ARC, or How We Analyzed the Kasowitz Emails', 'byline': 'by Jeremy B. Merrill ProPublica,  July 19, 8 a.m.'}, {'headline': 'Advocacy Groups Say Senators Should Have One Word for Trump Immigration Pick: ‘No.’', 'byline': 'by Marcelo Rochabrun ProPublica,  July 18, 3:36 p.m.'}, {'headline': 'Hotelier-in-Chief: Here Are the Trumps’ New Hotels', 'byline': 'by Derek Kravitz, ProPublica, Alan Huffman, special to ProPublica, and Matt Drange, Forbes, July 18, 8 a.m.'}, {'headline': 'We Found New Details About the New Trump-Branded Hotels. Now We Want Your Help to Find the Rest.', 'byline': 'by Derek Kravitz, Al Shaw and Terry Parris Jr., ProPublica, and Matt Drange, Forbes July 18, 7:59 a.m.'}, {'headline': 'The Myth of Drug Expiration Dates', 'byline': 'by Marshall Allen ProPublica,  July 18, 5 a.m.'}, {'headline': 'Cook County Assessor Faces Questions About Property Tax Inequity', 'byline': 'by Jason Grotto, ProPublica/Chicago Tribune,  July 17, 4:30 p.m.'}, {'headline': 'Lost Mothers', 'byline': 'by Nina Martin, ProPublica, Emma Cillekens and Alessandra Freitas, special to ProPublica July 17, 8 a.m.'}]\n"
     ]
    }
   ],
   "source": [
    "stories = doc.find_all(\"div\", { 'class': 'box-feature-text' })\n",
    "\n",
    "all_stories = []\n",
    "# Grab their headlines and bylines\n",
    "for story in stories:\n",
    "    # Grab all of the h2's inside of the story\n",
    "    headline = story.find('a', {'class': 'title-link'})\n",
    "    # If a headline exists, then process the rest!\n",
    "    if headline:\n",
    "        # They're COVERED in whitespace\n",
    "        headline_text = headline.text.strip()\n",
    "        # Make a dictionary with the headline\n",
    "        this_story = { 'headline': headline_text }\n",
    "        byline = story.find('p', {'class': 'byline'})\n",
    "        # Not all of them have a byline\n",
    "        if byline:\n",
    "            byline_text = byline.text.strip()\n",
    "            this_story['byline'] = byline_text\n",
    "        all_stories.append(this_story)\n",
    "\n",
    "print(all_stories)\n",
    "\n",
    "stories_df = pd.DataFrame(all_stories)\n",
    "stories_df.head()\n",
    "stories_df.to_csv(\"propublica-data.csv\")\n",
    "\n",
    "datestring = time.strftime(\"%Y-%m-%d-%H-%M\")\n",
    "\n",
    "filename = \"propublica-data-\" + datestring + \".csv\"\n",
    "stories_df.to_csv(filename, index=False)"
   ]
  },
  {
   "cell_type": "markdown",
   "metadata": {
    "collapsed": true
   },
   "source": [
    "#using mailgun is basically a way to tell google that it's not a spam email\n",
    "#mailchimp, for example, moves you to better and better servers\n",
    "#as you send more email and they see you're not spam\n",
    "#curl is used to download files from the server/communicate with the server\n",
    "\n",
    "\n",
    "curl -s --user 'api:key-b461543f82207a0b6573356521d9164d' \\\n",
    "    https://api.mailgun.net/v3/sandboxfde15846fe8f42e1ba424520b85f9de4.mailgun.org/messages \\\n",
    "        -F from='Mailgun Sandbox <postmaster@sandboxfde15846fe8f42e1ba424520b85f9de4.mailgun.org>' \\\n",
    "        -F to='Kate Cough <kc3053@columbia.edu>' \\\n",
    "        -F subject='Hello Kate Cough' \\\n",
    "        -F text='Congratulations Kate Cough, you just sent an email with Mailgun!  You are truly awesome!'"
   ]
  },
  {
   "cell_type": "code",
   "execution_count": null,
   "metadata": {
    "collapsed": true
   },
   "outputs": [],
   "source": [
    "#when do you use post vs get\n",
    "#post is used to submit forms (vs get, just going to the website)\n",
    "def send_simple_message():\n",
    "    return requests.post(\n",
    "        \"https://api.mailgun.net/v3/sandboxfde15846fe8f42e1ba424520b85f9de4.mailgun.org/messages\",\n",
    "        auth=(\"api\", \"key-b461543f82207a0b6573356521d9164d\"),\n",
    "        data={\"from\": \"Mailgun Sandbox <postmaster@sandboxfde15846fe8f42e1ba424520b85f9de4.mailgun.org>\",\n",
    "              \"to\": \"Kate Cough <kc3053@columbia.edu>\",\n",
    "              \"subject\": \"Hello Kate Cough\",\n",
    "              \"text\": \"Congratulations Kate Cough, you just sent an email with Mailgun!  You are truly awesome!\"})"
   ]
  },
  {
   "cell_type": "code",
   "execution_count": null,
   "metadata": {
    "collapsed": true
   },
   "outputs": [],
   "source": [
    "response = requests.get('http://nytimes.com')\n",
    "doc = BeautifulSoup(response.text, 'html.parser')"
   ]
  },
  {
   "cell_type": "code",
   "execution_count": null,
   "metadata": {
    "collapsed": true
   },
   "outputs": [],
   "source": [
    "headlines = doc.find_all('h3')\n",
    "\n",
    "email_text = \"\"\n",
    "#looping through the headlines and adding one \n",
    "for headline in headlines:\n",
    "    email_text = email_text + \"/n\" + headline.text.strip()\n",
    "print(email_text)"
   ]
  },
  {
   "cell_type": "code",
   "execution_count": 6,
   "metadata": {},
   "outputs": [
    {
     "data": {
      "text/plain": [
       "<Response [200]>"
      ]
     },
     "execution_count": 6,
     "metadata": {},
     "output_type": "execute_result"
    }
   ],
   "source": [
    "import requests\n",
    "\n",
    "requests.post(\n",
    "        \"https://api.mailgun.net/v3/sandboxfde15846fe8f42e1ba424520b85f9de4.mailgun.org/messages\",\n",
    "        auth=(\"api\", \"key-b461543f82207a0b6573356521d9164d\"),\n",
    "        data={\"from\": \"Mailgun Sandbox <postmaster@sandboxfde15846fe8f42e1ba424520b85f9de4.mailgun.org>\",\n",
    "              \"to\": \"Kate Cough <kc3053@columbia.edu>\",\n",
    "              \"subject\": \"Testing sending from python\",\n",
    "              \"text\": email_text})\n",
    "\n"
   ]
  },
  {
   "cell_type": "markdown",
   "metadata": {},
   "source": [
    "# Here's the full code:"
   ]
  }
 ],
 "metadata": {
  "kernelspec": {
   "display_name": "Python 3",
   "language": "python",
   "name": "python3"
  },
  "language_info": {
   "codemirror_mode": {
    "name": "ipython",
    "version": 3
   },
   "file_extension": ".py",
   "mimetype": "text/x-python",
   "name": "python",
   "nbconvert_exporter": "python",
   "pygments_lexer": "ipython3",
   "version": "3.6.1"
  }
 },
 "nbformat": 4,
 "nbformat_minor": 2
}
