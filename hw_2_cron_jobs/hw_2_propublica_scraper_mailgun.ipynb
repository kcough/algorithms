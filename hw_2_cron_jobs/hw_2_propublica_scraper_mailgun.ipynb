{
 "cells": [
  {
   "cell_type": "code",
   "execution_count": 1,
   "metadata": {
    "collapsed": true
   },
   "outputs": [],
   "source": [
    "import requests\n",
    "from bs4 import BeautifulSoup\n",
    "import pandas as pd\n",
    "import time\n"
   ]
  },
  {
   "cell_type": "code",
   "execution_count": null,
   "metadata": {
    "collapsed": true
   },
   "outputs": [],
   "source": [
    "# response = requests.get(\"http://bangordailynews.com/\")\n",
    "# doc = BeautifulSoup(response.text, 'html.parser')"
   ]
  },
  {
   "cell_type": "code",
   "execution_count": null,
   "metadata": {
    "collapsed": true
   },
   "outputs": [],
   "source": [
    "import requests\n",
    "\n",
    "requests.post(\n",
    "        \"https://api.mailgun.net/v3/sandboxfde15846fe8f42e1ba424520b85f9de4.mailgun.org/messages\",\n",
    "        auth=(\"api\", \"key-b461543f82207a0b6573356521d9164d\"),\n",
    "        data={\"from\": \"Mailgun Sandbox <postmaster@sandboxfde15846fe8f42e1ba424520b85f9de4.mailgun.org>\",\n",
    "              \"to\": \"Kate Cough <kc3053@columbia.edu>\",\n",
    "              \"subject\": \"Testing sending from python\",\n",
    "              \"text\": email_text})\n",
    "\n"
   ]
  },
  {
   "cell_type": "code",
   "execution_count": 3,
   "metadata": {
    "collapsed": true
   },
   "outputs": [],
   "source": [
    "response = requests.get(\"https://www.propublica.org/\")\n",
    "doc = BeautifulSoup(response.text, 'html.parser')"
   ]
  },
  {
   "cell_type": "code",
   "execution_count": null,
   "metadata": {
    "collapsed": true
   },
   "outputs": [],
   "source": [
    "headlines = doc.find_all('h3')\n",
    "\n",
    "email_text = \"\"\n",
    "#looping through the headlines and adding one \n",
    "for headline in headlines:\n",
    "    email_text = email_text + \"/n\" + headline.text.strip()\n",
    "print(email_text)"
   ]
  },
  {
   "cell_type": "code",
   "execution_count": 4,
   "metadata": {},
   "outputs": [
    {
     "name": "stdout",
     "output_type": "stream",
     "text": [
      "[{'headline': 'Amid the Blaring Headlines, Routine Reports of Hate-Fueled Violence', 'byline': 'by Joe Sexton ProPublica,  3 minutes ago'}, {'headline': 'Keep an Eye On Your State’s Congressional Delegation', 'byline': 'by Allison McCartney and Jeremy B. Merrill ProPublica,  Today, 8 a.m.'}, {'headline': \"How (and Why) We're Collecting Cook County Jail Data\", 'byline': 'by David Eads ProPublica,  Yesterday, 12:39 p.m.'}, {'headline': 'Has the Moment for Environmental Justice Been Lost?', 'byline': 'by Talia Buford ProPublica,  Yesterday, 8 a.m.'}, {'headline': 'ProPublica Illinois Is Hiring a Communications Manager'}, {'headline': 'Kaboom Town', 'byline': 'by Abrahm Lustgarten ProPublica,  July 21, 8 a.m.'}, {'headline': 'In Colfax, Echoes of Another Conflict', 'byline': 'by Ashley Gilbertson ProPublica,  July 21, 7:59 a.m.'}, {'headline': 'One Year, One Facility, 1.7 Million Pounds of Hazardous Waste Burned in Open Air', 'byline': 'by Lylla Younes and Abrahm Lustgarten ProPublica,  July 21, 7:59 a.m.'}, {'headline': 'Open Burns, Ill Winds', 'byline': 'by Abrahm Lustgarten ProPublica,  July 20, 8 a.m.'}, {'headline': 'Toxic Fires', 'byline': 'by Hilary Fung, Lena Groeger and Abrahm Lustgarten ProPublica,  July 20, 7:59 a.m.'}, {'headline': 'The Immigration Effect', 'byline': 'by Lena Groeger ProPublica,  July 19, 11 a.m.'}, {'headline': 'Authenticating Email Using DKIM and ARC, or How We Analyzed the Kasowitz Emails', 'byline': 'by Jeremy B. Merrill ProPublica,  July 19, 8 a.m.'}, {'headline': 'Advocacy Groups Say Senators Should Have One Word for Trump Immigration Pick: ‘No.’', 'byline': 'by Marcelo Rochabrun ProPublica,  July 18, 3:36 p.m.'}, {'headline': 'Hotelier-in-Chief: Here Are the Trumps’ New Hotels', 'byline': 'by Derek Kravitz, ProPublica, Alan Huffman, special to ProPublica, and Matt Drange, Forbes, July 18, 8 a.m.'}, {'headline': 'We Found New Details About the New Trump-Branded Hotels. Now We Want Your Help to Find the Rest.', 'byline': 'by Derek Kravitz, Al Shaw and Terry Parris Jr., ProPublica, and Matt Drange, Forbes July 18, 7:59 a.m.'}, {'headline': 'The Myth of Drug Expiration Dates', 'byline': 'by Marshall Allen ProPublica,  July 18, 5 a.m.'}, {'headline': 'Cook County Assessor Faces Questions About Property Tax Inequity', 'byline': 'by Jason Grotto, ProPublica/Chicago Tribune,  July 17, 4:30 p.m.'}, {'headline': 'Lost Mothers', 'byline': 'by Nina Martin, ProPublica, Emma Cillekens and Alessandra Freitas, special to ProPublica July 17, 8 a.m.'}]\n"
     ]
    }
   ],
   "source": [
    "stories = doc.find_all(\"div\", { 'class': 'box-feature-text' })\n",
    "\n",
    "all_stories = []\n",
    "# Grab their headlines and bylines\n",
    "for story in stories:\n",
    "    # Grab all of the h2's inside of the story\n",
    "    headline = story.find('a', {'class': 'title-link'})\n",
    "    # If a headline exists, then process the rest!\n",
    "    if headline:\n",
    "        # They're COVERED in whitespace\n",
    "        headline_text = headline.text.strip()\n",
    "        # Make a dictionary with the headline\n",
    "        this_story = { 'headline': headline_text }\n",
    "        byline = story.find('p', {'class': 'byline'})\n",
    "        # Not all of them have a byline\n",
    "        if byline:\n",
    "            byline_text = byline.text.strip()\n",
    "            this_story['byline'] = byline_text\n",
    "        all_stories.append(this_story)\n",
    "\n",
    "print(all_stories)\n",
    "\n",
    "stories_df = pd.DataFrame(all_stories)\n",
    "stories_df.head()\n",
    "stories_df.to_csv(\"propublica-data.csv\")\n",
    "\n",
    "datestring = time.strftime(\"%Y-%m-%d-%H-%M\")\n",
    "\n",
    "filename = \"propublica-data-\" + datestring + \".csv\"\n",
    "stories_df.to_csv(filename, index=False)"
   ]
  },
  {
   "cell_type": "code",
   "execution_count": 28,
   "metadata": {},
   "outputs": [
    {
     "name": "stdout",
     "output_type": "stream",
     "text": [
      "[{'headline': 'What happened to Brahma Grill in Bangor?'}, {'headline': 'What happened to Brahma Grill in Bangor?'}, {'headline': 'What happened to Brahma Grill in Bangor?'}, {'headline': 'What happened to Brahma Grill in Bangor?'}, {'headline': 'What happened to Brahma Grill in Bangor?'}, {'headline': 'What happened to Brahma Grill in Bangor?'}, {'headline': 'What happened to Brahma Grill in Bangor?'}]\n"
     ]
    }
   ],
   "source": [
    "# #create an empty list to story dictionary keys:values in\n",
    "# all_stories = []\n",
    "\n",
    "# for each_headline in stories:\n",
    "#     headline = doc.find('h4',{'class':'headline'})\n",
    "#     if headline:\n",
    "#         # They're COVERED in whitespace\n",
    "#         headline_text = headline.text.strip()\n",
    "#         #key = headline, value = stripped headline_text\n",
    "#         this_story = {'headline': headline_text}\n",
    "#         #append all the entries to the list all_stories\n",
    "#         all_stories.append(this_story)        \n",
    "        \n",
    "# print(all_stories)\n",
    "\n",
    "# #store it all into a data frame\n",
    "# stories_df = pd.DataFrame(all_stories)"
   ]
  },
  {
   "cell_type": "code",
   "execution_count": 22,
   "metadata": {},
   "outputs": [
    {
     "data": {
      "text/html": [
       "<div>\n",
       "<style>\n",
       "    .dataframe thead tr:only-child th {\n",
       "        text-align: right;\n",
       "    }\n",
       "\n",
       "    .dataframe thead th {\n",
       "        text-align: left;\n",
       "    }\n",
       "\n",
       "    .dataframe tbody tr th {\n",
       "        vertical-align: top;\n",
       "    }\n",
       "</style>\n",
       "<table border=\"1\" class=\"dataframe\">\n",
       "  <thead>\n",
       "    <tr style=\"text-align: right;\">\n",
       "      <th></th>\n",
       "      <th>headline</th>\n",
       "    </tr>\n",
       "  </thead>\n",
       "  <tbody>\n",
       "    <tr>\n",
       "      <th>0</th>\n",
       "      <td>Susan Collins says Trump made no effort to rea...</td>\n",
       "    </tr>\n",
       "    <tr>\n",
       "      <th>1</th>\n",
       "      <td>Susan Collins says Trump made no effort to rea...</td>\n",
       "    </tr>\n",
       "    <tr>\n",
       "      <th>2</th>\n",
       "      <td>Susan Collins says Trump made no effort to rea...</td>\n",
       "    </tr>\n",
       "    <tr>\n",
       "      <th>3</th>\n",
       "      <td>Susan Collins says Trump made no effort to rea...</td>\n",
       "    </tr>\n",
       "    <tr>\n",
       "      <th>4</th>\n",
       "      <td>Susan Collins says Trump made no effort to rea...</td>\n",
       "    </tr>\n",
       "  </tbody>\n",
       "</table>\n",
       "</div>"
      ],
      "text/plain": [
       "                                            headline\n",
       "0  Susan Collins says Trump made no effort to rea...\n",
       "1  Susan Collins says Trump made no effort to rea...\n",
       "2  Susan Collins says Trump made no effort to rea...\n",
       "3  Susan Collins says Trump made no effort to rea...\n",
       "4  Susan Collins says Trump made no effort to rea..."
      ]
     },
     "execution_count": 22,
     "metadata": {},
     "output_type": "execute_result"
    }
   ],
   "source": [
    "# stories_df.head()"
   ]
  },
  {
   "cell_type": "code",
   "execution_count": null,
   "metadata": {
    "collapsed": true
   },
   "outputs": [],
   "source": []
  },
  {
   "cell_type": "code",
   "execution_count": null,
   "metadata": {
    "collapsed": true
   },
   "outputs": [],
   "source": []
  },
  {
   "cell_type": "code",
   "execution_count": 15,
   "metadata": {},
   "outputs": [
    {
     "name": "stdout",
     "output_type": "stream",
     "text": [
      "[<div class=\"headline\"><a href=\"http://bangordailynews.com/2017/07/25/news/nation/susan-collins-says-trump-made-no-effort-to-reach-her-over-health-care-bill/?ref=relatedSidebar\" title=\"Susan Collins says Trump made no effort to reach her over health care bill\"><img src=\"https://bdn-data.s3.amazonaws.com/uploads/2017/07/40919081_H20907330-75x75.jpg\"/></a><a href=\"http://bangordailynews.com/2017/07/25/news/nation/susan-collins-says-trump-made-no-effort-to-reach-her-over-health-care-bill/?ref=relatedSidebar\" title=\"Susan Collins says Trump made no effort to reach her over health care bill\">Susan Collins says Trump made no effort to reach her over health care bill</a></div>, <div class=\"headline\"><a href=\"http://bangordailynews.com/2017/07/24/politics/texas-congressman-suggests-hed-like-to-challenge-susan-collins-to-duel/?ref=relatedSidebar\" title=\"Collins responds to Texas congressman’s ‘duel’ comment\"><img src=\"https://bdn-data.s3.amazonaws.com/uploads/2017/07/40882501_H20864484-75x75.jpg\"/></a><a href=\"http://bangordailynews.com/2017/07/24/politics/texas-congressman-suggests-hed-like-to-challenge-susan-collins-to-duel/?ref=relatedSidebar\" title=\"Collins responds to Texas congressman’s ‘duel’ comment\">Collins responds to Texas congressman’s ‘duel’ comment</a></div>, <div class=\"headline\"><a href=\"http://bangordailynews.com/2017/07/25/politics/ri-senator-on-hot-mic-trump-is-crazy-collins-im-worried/?ref=relatedSidebar\" title=\"RI senator on hot mic: Trump is ‘crazy.’ Collins: ‘I’m worried’\"><img src=\"https://bdn-data.s3.amazonaws.com/uploads/2017/07/40951521_H20911218-75x75.jpg\"/></a><a href=\"http://bangordailynews.com/2017/07/25/politics/ri-senator-on-hot-mic-trump-is-crazy-collins-im-worried/?ref=relatedSidebar\" title=\"RI senator on hot mic: Trump is ‘crazy.’ Collins: ‘I’m worried’\">RI senator on hot mic: Trump is ‘crazy.’ Collins: ‘I’m worried’</a></div>, <div class=\"headline\">\r\n",
      "\t\t\t\t\t\t\t\tKansas woman tries to kill bug with a lighter, ends up setting apartment on fire\t\t\t\t\t\t\t</div>, <div class=\"headline\">\r\n",
      "\t\t\t\t\t\t\t\tDriver in Texas denies he knew immigrants were in stifling truck\t\t\t\t\t\t\t</div>, <div class=\"headline\">\r\n",
      "\t\t\t\t\t\t\t\tElectricity Maine insurer doesn’t want to pay to fight customers’ class-action suit\t\t\t\t\t\t\t</div>, <div class=\"headline\">\r\n",
      "\t\t\t\t\t\t\t\tPolice: NH woman tried to kidnap Good Samaritan’s 1-year-old daughter\t\t\t\t\t\t\t</div>]\n",
      "[]\n"
     ]
    }
   ],
   "source": [
    "# response = requests.get(\"http://bangordailynews.com/\")\n",
    "# doc = BeautifulSoup(response.text, 'html.parser')\n",
    "\n",
    "# stories = doc.find_all(\"div\", {'class': 'headline' })\n",
    "# print(stories)\n",
    "\n",
    "# all_stories = []\n",
    "# # Grab their headlines and bylines\n",
    "# for story in stories:\n",
    "#     # Grab all of the h2's inside of the story\n",
    "#     headline = story.find('div', {'class': 'headline'})\n",
    "# #     minor_head = story.find('h4', {'class': 'headline'})\n",
    "\n",
    "#     # If a headline exists, then process the rest!\n",
    "#     if headline:\n",
    "#         # They're COVERED in whitespace\n",
    "#         headline_text = headline.text.strip()\n",
    "#         # Make a dictionary with the headline\n",
    "#         this_story = {'headline': headline_text}\n",
    "# #         byline = story.find('div', {'class': 'headline'})\n",
    "# # #     if minor_head:\n",
    "# # #         minor_text = minor_head.text.strip()\n",
    "# # #         this_story={'minor_head': minor_text}\n",
    "# # #         # Not all of them have a byline\n",
    "# #         if byline:\n",
    "# #             byline_text = byline.text.strip()\n",
    "# #             this_story['byline'] = byline_text\n",
    "#         all_stories.append(this_story)\n",
    "\n",
    "# # for story in stories:\n",
    "\n",
    "# #     minor_head = story.find('h4', {'class': 'headline'})\n",
    "# #     if minor_head:\n",
    "# #         minor_text = minor_head.text.strip()\n",
    "# #         this_story={'minor_head': minor_text}\n",
    "\n",
    "# print(all_stories)\n",
    "\n",
    "# stories_df = pd.DataFrame(all_stories)\n",
    "# # # stories_df.to_csv(\"bdn_data.csv\")\n",
    "\n",
    "# # # datestring = time.strftime(\"%Y-%m-%d-%H-%M\")\n",
    "\n",
    "# # # filename = \"bdn-data-\" + datestring + \".csv\"\n",
    "# # # stories_df.to_csv(filename, index=False)"
   ]
  },
  {
   "cell_type": "code",
   "execution_count": null,
   "metadata": {
    "collapsed": true
   },
   "outputs": [],
   "source": [
    "#using mailgun is basically a way to tell google that it's not a spam email\n",
    "#mailchimp, for example, moves you to better and better servers\n",
    "#as you send more email and they see you're not spam\n",
    "#curl is used to download files from the server/communicate with the server\n",
    "\n",
    "\n",
    "curl -s --user 'api:key-b461543f82207a0b6573356521d9164d' \\\n",
    "    https://api.mailgun.net/v3/sandboxfde15846fe8f42e1ba424520b85f9de4.mailgun.org/messages \\\n",
    "        -F from='Mailgun Sandbox <postmaster@sandboxfde15846fe8f42e1ba424520b85f9de4.mailgun.org>' \\\n",
    "        -F to='Kate Cough <kc3053@columbia.edu>' \\\n",
    "        -F subject='Hello Kate Cough' \\\n",
    "        -F text='Congratulations Kate Cough, you just sent an email with Mailgun!  You are truly awesome!'"
   ]
  },
  {
   "cell_type": "code",
   "execution_count": null,
   "metadata": {
    "collapsed": true
   },
   "outputs": [],
   "source": [
    "#when do you use post vs get\n",
    "#post is used to submit forms (vs get, just going to the website)\n",
    "def send_simple_message():\n",
    "    return requests.post(\n",
    "        \"https://api.mailgun.net/v3/sandboxfde15846fe8f42e1ba424520b85f9de4.mailgun.org/messages\",\n",
    "        auth=(\"api\", \"key-b461543f82207a0b6573356521d9164d\"),\n",
    "        data={\"from\": \"Mailgun Sandbox <postmaster@sandboxfde15846fe8f42e1ba424520b85f9de4.mailgun.org>\",\n",
    "              \"to\": \"Kate Cough <kc3053@columbia.edu>\",\n",
    "              \"subject\": \"Hello Kate Cough\",\n",
    "              \"text\": \"Congratulations Kate Cough, you just sent an email with Mailgun!  You are truly awesome!\"})"
   ]
  },
  {
   "cell_type": "code",
   "execution_count": null,
   "metadata": {
    "collapsed": true
   },
   "outputs": [],
   "source": [
    "response = requests.get('http://nytimes.com')\n",
    "doc = BeautifulSoup(response.text, 'html.parser')"
   ]
  },
  {
   "cell_type": "code",
   "execution_count": null,
   "metadata": {
    "collapsed": true
   },
   "outputs": [],
   "source": [
    "headlines = doc.find_all('h3')\n",
    "\n",
    "email_text = \"\"\n",
    "#looping through the headlines and adding one \n",
    "for headline in headlines:\n",
    "    email_text = email_text + \"/n\" + headline.text.strip()\n",
    "print(email_text)"
   ]
  },
  {
   "cell_type": "code",
   "execution_count": 6,
   "metadata": {},
   "outputs": [
    {
     "data": {
      "text/plain": [
       "<Response [200]>"
      ]
     },
     "execution_count": 6,
     "metadata": {},
     "output_type": "execute_result"
    }
   ],
   "source": [
    "import requests\n",
    "\n",
    "requests.post(\n",
    "        \"https://api.mailgun.net/v3/sandboxfde15846fe8f42e1ba424520b85f9de4.mailgun.org/messages\",\n",
    "        auth=(\"api\", \"key-b461543f82207a0b6573356521d9164d\"),\n",
    "        data={\"from\": \"Mailgun Sandbox <postmaster@sandboxfde15846fe8f42e1ba424520b85f9de4.mailgun.org>\",\n",
    "              \"to\": \"Kate Cough <kc3053@columbia.edu>\",\n",
    "              \"subject\": \"Testing sending from python\",\n",
    "              \"text\": email_text})\n",
    "\n"
   ]
  },
  {
   "cell_type": "markdown",
   "metadata": {},
   "source": [
    "# Here's the full code:"
   ]
  },
  {
   "cell_type": "code",
   "execution_count": null,
   "metadata": {
    "collapsed": true
   },
   "outputs": [],
   "source": [
    "import requests\n",
    "from bs4 import BeautifulSoup\n",
    "import pandas as pd\n",
    "import time\n",
    "\n",
    "response = requests.get(\"https://www.propublica.org/\")\n",
    "doc = BeautifulSoup(response.text, 'html.parser')\n",
    "stories = doc.find_all(\"div\", { 'class': 'box-feature-text' })\n",
    "\n",
    "all_stories = []\n",
    "# Grab their headlines and bylines\n",
    "for story in stories:\n",
    "    # Grab all of the h2's inside of the story\n",
    "    headline = story.find('a', {'class': 'title-link'})\n",
    "    # If a headline exists, then process the rest!\n",
    "    if headline:\n",
    "        # They're COVERED in whitespace\n",
    "        headline_text = headline.text.strip()\n",
    "        # Make a dictionary with the headline\n",
    "        this_story = { 'headline': headline_text }\n",
    "        byline = story.find('p', {'class': 'byline'})\n",
    "        # Not all of them have a byline\n",
    "        if byline:\n",
    "            byline_text = byline.text.strip()\n",
    "            this_story['byline'] = byline_text\n",
    "        all_stories.append(this_story)\n",
    "\n",
    "print(all_stories)\n",
    "\n",
    "stories_df = pd.DataFrame(all_stories)\n",
    "stories_df.head()\n",
    "stories_df.to_csv(\"propublica-data.csv\")\n",
    "\n",
    "datestring = time.strftime(\"%Y-%m-%d-%H-%M\")\n",
    "\n",
    "filename = \"propublica-data-\" + datestring + \".csv\"\n",
    "stories_df.to_csv(filename, index=False)\n",
    "\n",
    "requests.post(\n",
    "        \"https://api.mailgun.net/v3/sandboxfde15846fe8f42e1ba424520b85f9de4.mailgun.org/messages\",\n",
    "        auth=(\"api\", \"key-b461543f82207a0b6573356521d9164d\"),\n",
    "        data={\"from\": \"Mailgun Sandbox <postmaster@sandboxfde15846fe8f42e1ba424520b85f9de4.mailgun.org>\",\n",
    "              \"to\": \"Kate Cough <kc3053@columbia.edu>\",\n",
    "              \"subject\": \"Propublica Headlines\",\n",
    "              \"text\": all_stories})"
   ]
  }
 ],
 "metadata": {
  "kernelspec": {
   "display_name": "Python 3",
   "language": "python",
   "name": "python3"
  },
  "language_info": {
   "codemirror_mode": {
    "name": "ipython",
    "version": 3
   },
   "file_extension": ".py",
   "mimetype": "text/x-python",
   "name": "python",
   "nbconvert_exporter": "python",
   "pygments_lexer": "ipython3",
   "version": "3.6.1"
  }
 },
 "nbformat": 4,
 "nbformat_minor": 2
}
